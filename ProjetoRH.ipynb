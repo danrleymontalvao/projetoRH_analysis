{
 "cells": [
  {
   "cell_type": "markdown",
   "id": "16fcfb34",
   "metadata": {},
   "source": [
    "# Análise de Dados de Recursos Humanos"
   ]
  },
  {
   "cell_type": "markdown",
   "id": "ad84b4f7",
   "metadata": {},
   "source": [
    "Uma empresa, através do seu setor de RH, oferece um treinamento de capacitação em tecnologia para a comunidade em geral. Através dos dados dos alunos do treinamento, a empresa quer saber quais as variáveis que mais influenciam para uma pessoa buscar um novo emprego."
   ]
  },
  {
   "cell_type": "code",
   "execution_count": 1,
   "id": "38219044",
   "metadata": {},
   "outputs": [],
   "source": [
    "# Importando os pacotes a serem utilizados na análise\n",
    "\n",
    "# Manipulação de dados\n",
    "import pandas as pd\n",
    "import numpy as np\n",
    "\n",
    "# Visualização\n",
    "import matplotlib.pyplot as plt\n",
    "import seaborn as sns\n",
    "import plotly.express as px\n",
    "import plotly.graph_objects as go\n",
    "from plotly.subplots import make_subplots\n",
    "import missingno\n",
    "\n",
    "# Estatística\n",
    "import scipy\n",
    "from scipy.stats import normaltest\n",
    "from scipy.stats import chi2_contingency\n",
    "\n",
    "# Engenharia de Atributos\n",
    "from sklearn.pipeline import Pipeline\n",
    "from sklearn.impute import SimpleImputer\n",
    "from sklearn.preprocessing import OneHotEncoder, LabelEncoder, OrdinalEncoder\n",
    "from sklearn.compose import ColumnTransformer\n",
    "import category_encoders as ce\n",
    "\n",
    "# Ignore Warning\n",
    "import sys\n",
    "import warnings\n",
    "if not sys.warnoptions:\n",
    "    warnings.simplefilter(\"ignore\")"
   ]
  },
  {
   "cell_type": "code",
   "execution_count": 2,
   "id": "a15190ea",
   "metadata": {},
   "outputs": [
    {
     "data": {
      "text/html": [
       "<div>\n",
       "<style scoped>\n",
       "    .dataframe tbody tr th:only-of-type {\n",
       "        vertical-align: middle;\n",
       "    }\n",
       "\n",
       "    .dataframe tbody tr th {\n",
       "        vertical-align: top;\n",
       "    }\n",
       "\n",
       "    .dataframe thead th {\n",
       "        text-align: right;\n",
       "    }\n",
       "</style>\n",
       "<table border=\"1\" class=\"dataframe\">\n",
       "  <thead>\n",
       "    <tr style=\"text-align: right;\">\n",
       "      <th></th>\n",
       "      <th>enrollee_id</th>\n",
       "      <th>city</th>\n",
       "      <th>city_development_index</th>\n",
       "      <th>gender</th>\n",
       "      <th>relevent_experience</th>\n",
       "      <th>enrolled_university</th>\n",
       "      <th>education_level</th>\n",
       "      <th>major_discipline</th>\n",
       "      <th>experience</th>\n",
       "      <th>company_size</th>\n",
       "      <th>company_type</th>\n",
       "      <th>last_new_job</th>\n",
       "      <th>training_hours</th>\n",
       "      <th>target</th>\n",
       "    </tr>\n",
       "  </thead>\n",
       "  <tbody>\n",
       "    <tr>\n",
       "      <th>0</th>\n",
       "      <td>8949</td>\n",
       "      <td>city_103</td>\n",
       "      <td>0.920</td>\n",
       "      <td>Male</td>\n",
       "      <td>Has relevent experience</td>\n",
       "      <td>no_enrollment</td>\n",
       "      <td>Graduate</td>\n",
       "      <td>STEM</td>\n",
       "      <td>&gt;20</td>\n",
       "      <td>NaN</td>\n",
       "      <td>NaN</td>\n",
       "      <td>1</td>\n",
       "      <td>36</td>\n",
       "      <td>1.0</td>\n",
       "    </tr>\n",
       "    <tr>\n",
       "      <th>1</th>\n",
       "      <td>29725</td>\n",
       "      <td>city_40</td>\n",
       "      <td>0.776</td>\n",
       "      <td>Male</td>\n",
       "      <td>No relevent experience</td>\n",
       "      <td>no_enrollment</td>\n",
       "      <td>Graduate</td>\n",
       "      <td>STEM</td>\n",
       "      <td>15</td>\n",
       "      <td>50-99</td>\n",
       "      <td>Pvt Ltd</td>\n",
       "      <td>&gt;4</td>\n",
       "      <td>47</td>\n",
       "      <td>0.0</td>\n",
       "    </tr>\n",
       "    <tr>\n",
       "      <th>2</th>\n",
       "      <td>11561</td>\n",
       "      <td>city_21</td>\n",
       "      <td>0.624</td>\n",
       "      <td>NaN</td>\n",
       "      <td>No relevent experience</td>\n",
       "      <td>Full time course</td>\n",
       "      <td>Graduate</td>\n",
       "      <td>STEM</td>\n",
       "      <td>5</td>\n",
       "      <td>NaN</td>\n",
       "      <td>NaN</td>\n",
       "      <td>never</td>\n",
       "      <td>83</td>\n",
       "      <td>0.0</td>\n",
       "    </tr>\n",
       "    <tr>\n",
       "      <th>3</th>\n",
       "      <td>33241</td>\n",
       "      <td>city_115</td>\n",
       "      <td>0.789</td>\n",
       "      <td>NaN</td>\n",
       "      <td>No relevent experience</td>\n",
       "      <td>NaN</td>\n",
       "      <td>Graduate</td>\n",
       "      <td>Business Degree</td>\n",
       "      <td>&lt;1</td>\n",
       "      <td>NaN</td>\n",
       "      <td>Pvt Ltd</td>\n",
       "      <td>never</td>\n",
       "      <td>52</td>\n",
       "      <td>1.0</td>\n",
       "    </tr>\n",
       "    <tr>\n",
       "      <th>4</th>\n",
       "      <td>666</td>\n",
       "      <td>city_162</td>\n",
       "      <td>0.767</td>\n",
       "      <td>Male</td>\n",
       "      <td>Has relevent experience</td>\n",
       "      <td>no_enrollment</td>\n",
       "      <td>Masters</td>\n",
       "      <td>STEM</td>\n",
       "      <td>&gt;20</td>\n",
       "      <td>50-99</td>\n",
       "      <td>Funded Startup</td>\n",
       "      <td>4</td>\n",
       "      <td>8</td>\n",
       "      <td>0.0</td>\n",
       "    </tr>\n",
       "  </tbody>\n",
       "</table>\n",
       "</div>"
      ],
      "text/plain": [
       "   enrollee_id      city  city_development_index gender  \\\n",
       "0         8949  city_103                   0.920   Male   \n",
       "1        29725   city_40                   0.776   Male   \n",
       "2        11561   city_21                   0.624    NaN   \n",
       "3        33241  city_115                   0.789    NaN   \n",
       "4          666  city_162                   0.767   Male   \n",
       "\n",
       "       relevent_experience enrolled_university education_level  \\\n",
       "0  Has relevent experience       no_enrollment        Graduate   \n",
       "1   No relevent experience       no_enrollment        Graduate   \n",
       "2   No relevent experience    Full time course        Graduate   \n",
       "3   No relevent experience                 NaN        Graduate   \n",
       "4  Has relevent experience       no_enrollment         Masters   \n",
       "\n",
       "  major_discipline experience company_size    company_type last_new_job  \\\n",
       "0             STEM        >20          NaN             NaN            1   \n",
       "1             STEM         15        50-99         Pvt Ltd           >4   \n",
       "2             STEM          5          NaN             NaN        never   \n",
       "3  Business Degree         <1          NaN         Pvt Ltd        never   \n",
       "4             STEM        >20        50-99  Funded Startup            4   \n",
       "\n",
       "   training_hours  target  \n",
       "0              36     1.0  \n",
       "1              47     0.0  \n",
       "2              83     0.0  \n",
       "3              52     1.0  \n",
       "4               8     0.0  "
      ]
     },
     "execution_count": 2,
     "metadata": {},
     "output_type": "execute_result"
    }
   ],
   "source": [
    "#Carregar e exibir o dataset\n",
    "df=pd.read_csv('aug_train.csv')\n",
    "df.head()"
   ]
  },
  {
   "cell_type": "markdown",
   "id": "31bd8c43",
   "metadata": {},
   "source": [
    "### Dicionário de Colunas\n",
    "enrollee_id: código de identificação do aluno\n",
    "\n",
    "city: código da cidade\n",
    "\n",
    "city_development_index: índice de desenvolvimento da cidade\n",
    "\n",
    "gender: gênero\n",
    "\n",
    "relevant_experience: relevância profissional do aluno, classificada pela quantidade de anos\n",
    "\n",
    "enrolled_university: classificação do curso universitário quanto ao período de estudo\n",
    "\n",
    "education_level: nível de escolaridade\n",
    "\n",
    "major_discipline: área de conhecimento da graduação\n",
    "\n",
    "experience: experiência em anos\n",
    "\n",
    "company_size: tamanho da companhia com relação ao número de colaboradores\n",
    "\n",
    "company_type: tipo da empresa\n",
    "\n",
    "last_new_job: tempo em anos que a pessoa ficou desempregada pela última vez\n",
    "\n",
    "training_hours: tempo que a pessoa levou para concluir o treinamento\n",
    "\n",
    "target: variável alvo, informa se a pessoa está ou não buscando um novo emprego"
   ]
  },
  {
   "cell_type": "markdown",
   "id": "13b2c9a0",
   "metadata": {},
   "source": [
    "## Análise exploratória dos dados"
   ]
  },
  {
   "cell_type": "code",
   "execution_count": 3,
   "id": "b908f20d",
   "metadata": {},
   "outputs": [
    {
     "data": {
      "text/html": [
       "<div>\n",
       "<style scoped>\n",
       "    .dataframe tbody tr th:only-of-type {\n",
       "        vertical-align: middle;\n",
       "    }\n",
       "\n",
       "    .dataframe tbody tr th {\n",
       "        vertical-align: top;\n",
       "    }\n",
       "\n",
       "    .dataframe thead th {\n",
       "        text-align: right;\n",
       "    }\n",
       "</style>\n",
       "<table border=\"1\" class=\"dataframe\">\n",
       "  <thead>\n",
       "    <tr style=\"text-align: right;\">\n",
       "      <th></th>\n",
       "      <th>city</th>\n",
       "      <th>gender</th>\n",
       "      <th>relevent_experience</th>\n",
       "      <th>enrolled_university</th>\n",
       "      <th>education_level</th>\n",
       "      <th>major_discipline</th>\n",
       "      <th>experience</th>\n",
       "      <th>company_size</th>\n",
       "      <th>company_type</th>\n",
       "      <th>last_new_job</th>\n",
       "    </tr>\n",
       "  </thead>\n",
       "  <tbody>\n",
       "    <tr>\n",
       "      <th>count</th>\n",
       "      <td>19158</td>\n",
       "      <td>14650</td>\n",
       "      <td>19158</td>\n",
       "      <td>18772</td>\n",
       "      <td>18698</td>\n",
       "      <td>16345</td>\n",
       "      <td>19093</td>\n",
       "      <td>13220</td>\n",
       "      <td>13018</td>\n",
       "      <td>18735</td>\n",
       "    </tr>\n",
       "    <tr>\n",
       "      <th>unique</th>\n",
       "      <td>123</td>\n",
       "      <td>3</td>\n",
       "      <td>2</td>\n",
       "      <td>3</td>\n",
       "      <td>5</td>\n",
       "      <td>6</td>\n",
       "      <td>22</td>\n",
       "      <td>8</td>\n",
       "      <td>6</td>\n",
       "      <td>6</td>\n",
       "    </tr>\n",
       "    <tr>\n",
       "      <th>top</th>\n",
       "      <td>city_103</td>\n",
       "      <td>Male</td>\n",
       "      <td>Has relevent experience</td>\n",
       "      <td>no_enrollment</td>\n",
       "      <td>Graduate</td>\n",
       "      <td>STEM</td>\n",
       "      <td>&gt;20</td>\n",
       "      <td>50-99</td>\n",
       "      <td>Pvt Ltd</td>\n",
       "      <td>1</td>\n",
       "    </tr>\n",
       "    <tr>\n",
       "      <th>freq</th>\n",
       "      <td>4355</td>\n",
       "      <td>13221</td>\n",
       "      <td>13792</td>\n",
       "      <td>13817</td>\n",
       "      <td>11598</td>\n",
       "      <td>14492</td>\n",
       "      <td>3286</td>\n",
       "      <td>3083</td>\n",
       "      <td>9817</td>\n",
       "      <td>8040</td>\n",
       "    </tr>\n",
       "  </tbody>\n",
       "</table>\n",
       "</div>"
      ],
      "text/plain": [
       "            city gender      relevent_experience enrolled_university  \\\n",
       "count      19158  14650                    19158               18772   \n",
       "unique       123      3                        2                   3   \n",
       "top     city_103   Male  Has relevent experience       no_enrollment   \n",
       "freq        4355  13221                    13792               13817   \n",
       "\n",
       "       education_level major_discipline experience company_size company_type  \\\n",
       "count            18698            16345      19093        13220        13018   \n",
       "unique               5                6         22            8            6   \n",
       "top           Graduate             STEM        >20        50-99      Pvt Ltd   \n",
       "freq             11598            14492       3286         3083         9817   \n",
       "\n",
       "       last_new_job  \n",
       "count         18735  \n",
       "unique            6  \n",
       "top               1  \n",
       "freq           8040  "
      ]
     },
     "execution_count": 3,
     "metadata": {},
     "output_type": "execute_result"
    }
   ],
   "source": [
    "#descrição das variáveis não numéricas\n",
    "df.describe(include=object)"
   ]
  },
  {
   "cell_type": "code",
   "execution_count": 4,
   "id": "ffea7522",
   "metadata": {},
   "outputs": [
    {
     "data": {
      "text/html": [
       "<div>\n",
       "<style scoped>\n",
       "    .dataframe tbody tr th:only-of-type {\n",
       "        vertical-align: middle;\n",
       "    }\n",
       "\n",
       "    .dataframe tbody tr th {\n",
       "        vertical-align: top;\n",
       "    }\n",
       "\n",
       "    .dataframe thead th {\n",
       "        text-align: right;\n",
       "    }\n",
       "</style>\n",
       "<table border=\"1\" class=\"dataframe\">\n",
       "  <thead>\n",
       "    <tr style=\"text-align: right;\">\n",
       "      <th></th>\n",
       "      <th>city_development_index</th>\n",
       "      <th>training_hours</th>\n",
       "    </tr>\n",
       "  </thead>\n",
       "  <tbody>\n",
       "    <tr>\n",
       "      <th>count</th>\n",
       "      <td>19158.000000</td>\n",
       "      <td>19158.000000</td>\n",
       "    </tr>\n",
       "    <tr>\n",
       "      <th>mean</th>\n",
       "      <td>0.828848</td>\n",
       "      <td>65.366896</td>\n",
       "    </tr>\n",
       "    <tr>\n",
       "      <th>std</th>\n",
       "      <td>0.123362</td>\n",
       "      <td>60.058462</td>\n",
       "    </tr>\n",
       "    <tr>\n",
       "      <th>min</th>\n",
       "      <td>0.448000</td>\n",
       "      <td>1.000000</td>\n",
       "    </tr>\n",
       "    <tr>\n",
       "      <th>25%</th>\n",
       "      <td>0.740000</td>\n",
       "      <td>23.000000</td>\n",
       "    </tr>\n",
       "    <tr>\n",
       "      <th>50%</th>\n",
       "      <td>0.903000</td>\n",
       "      <td>47.000000</td>\n",
       "    </tr>\n",
       "    <tr>\n",
       "      <th>75%</th>\n",
       "      <td>0.920000</td>\n",
       "      <td>88.000000</td>\n",
       "    </tr>\n",
       "    <tr>\n",
       "      <th>max</th>\n",
       "      <td>0.949000</td>\n",
       "      <td>336.000000</td>\n",
       "    </tr>\n",
       "  </tbody>\n",
       "</table>\n",
       "</div>"
      ],
      "text/plain": [
       "       city_development_index  training_hours\n",
       "count            19158.000000    19158.000000\n",
       "mean                 0.828848       65.366896\n",
       "std                  0.123362       60.058462\n",
       "min                  0.448000        1.000000\n",
       "25%                  0.740000       23.000000\n",
       "50%                  0.903000       47.000000\n",
       "75%                  0.920000       88.000000\n",
       "max                  0.949000      336.000000"
      ]
     },
     "execution_count": 4,
     "metadata": {},
     "output_type": "execute_result"
    }
   ],
   "source": [
    "#descrição das variáveis numéricas\n",
    "df.describe().drop(columns=['enrollee_id','target'])"
   ]
  },
  {
   "cell_type": "markdown",
   "id": "500f5d2c",
   "metadata": {},
   "source": [
    "Para a variável cdi, temos a média igual a 0,82 e a mediana igual a 0,90, nos indicando que a maioria dos candidatos são de cidades desenvolvidas.\n",
    "\n",
    "Para a variável horas de treinamento, temos uma média igual a 65,36 e a mediana igual a 47,00. Isso nos informa que a maioria das pessoas concluem o treinamento em poucas horas, porém existem pessoas que demoraram muito para concluir."
   ]
  },
  {
   "cell_type": "code",
   "execution_count": 6,
   "id": "06a0ba9e",
   "metadata": {},
   "outputs": [
    {
     "data": {
      "text/plain": [
       "Text(0.5, 1.0, 'Boxplot das Horas de Treinamento')"
      ]
     },
     "execution_count": 6,
     "metadata": {},
     "output_type": "execute_result"
    },
    {
     "data": {
      "image/png": "[encoded data removed]",
      "text/plain": [
       "<Figure size 1224x864 with 4 Axes>"
      ]
     },
     "metadata": {
      "needs_background": "light"
     },
     "output_type": "display_data"
    }
   ],
   "source": [
    "#visualizando a distribuição das variáveis numéricas\n",
    "plt.figure(figsize=(17,12))\n",
    "#histogramas\n",
    "plt.subplot(221)\n",
    "sns.histplot(df['city_development_index'],kde=True,color=\"green\")\n",
    "plt.title('Histograma do CDI')\n",
    "\n",
    "plt.subplot(222)\n",
    "sns.histplot(df['training_hours'],kde=True,color=\"magenta\")\n",
    "plt.title('Histograma das Horas de Treinamento')\n",
    "\n",
    "#boxplot\n",
    "plt.subplot(223)\n",
    "sns.boxplot(df['city_development_index'],color=\"green\")\n",
    "plt.title('Boxplot do CDI')\n",
    "\n",
    "plt.subplot(224)\n",
    "sns.boxplot(df['training_hours'],color=\"magenta\")\n",
    "plt.title('Boxplot das Horas de Treinamento')"
   ]
  },
  {
   "cell_type": "markdown",
   "id": "217fa6ea",
   "metadata": {},
   "source": [
    "Através dos gráficos podemos notar que nenhum das variáveis apresentam uma distribuição normal, ou seja, apresentam média, mediana e moda com valores distintos.\n",
    "Podemos notar que nas horas de treinamento há vários outliers, pessoas que por algum motivo levaram muito tempo para concluir o treinamento. No entanto, a maioria completa o treinamento em 47 horas."
   ]
  },
  {
   "cell_type": "code",
   "execution_count": 11,
   "id": "e8a8e162",
   "metadata": {},
   "outputs": [
    {
     "data": {
      "image/png": "[encoded data removed]",
      "text/plain": [
       "<Figure size 1296x2160 with 9 Axes>"
      ]
     },
     "metadata": {
      "needs_background": "light"
     },
     "output_type": "display_data"
    }
   ],
   "source": [
    "#visualização das variáveis não numéricas\n",
    "plt.figure(figsize=(18,30))\n",
    "columns=list(df.columns.values)[3:12]\n",
    "a=0\n",
    "for i in columns:\n",
    "    a+=1\n",
    "    plt.subplot(5,2,a)\n",
    "    ax=sns.countplot(data=df.fillna('NaN'),x=i)\n",
    "    plt.title(i)\n",
    "\n",
    "plt.tight_layout(h_pad = 2)"
   ]
  },
  {
   "cell_type": "markdown",
   "id": "e6795d55",
   "metadata": {},
   "source": [
    "## Correlação dos Dados "
   ]
  },
  {
   "cell_type": "markdown",
   "id": "be54b81f",
   "metadata": {},
   "source": [
    "Aanalisando as variáveis last_new_job e experience, podemos perceber que elas também podem ser descritas como variáveis numéricas. Assim, vamos transformá-las em variáveis numéricas e verificar a correlação com a variável target."
   ]
  },
  {
   "cell_type": "code",
   "execution_count": 12,
   "id": "a21fc963",
   "metadata": {},
   "outputs": [],
   "source": [
    "df_numerical=df.copy()"
   ]
  },
  {
   "cell_type": "code",
   "execution_count": 13,
   "id": "5bf1ca47",
   "metadata": {},
   "outputs": [],
   "source": [
    "df_numerical['experience']=np.where(df_numerical['experience']==\"<1\",1,df_numerical['experience'])\n",
    "df_numerical['experience']=np.where(df_numerical['experience']==\">20\",21,df_numerical['experience'])\n",
    "df_numerical['experience']=df_numerical['experience'].astype(float)"
   ]
  },
  {
   "cell_type": "code",
   "execution_count": 14,
   "id": "898966a5",
   "metadata": {},
   "outputs": [
    {
     "data": {
      "text/plain": [
       "21.0    3286\n",
       "5.0     1430\n",
       "4.0     1403\n",
       "3.0     1354\n",
       "6.0     1216\n",
       "2.0     1127\n",
       "1.0     1071\n",
       "7.0     1028\n",
       "10.0     985\n",
       "9.0      980\n",
       "8.0      802\n",
       "15.0     686\n",
       "11.0     664\n",
       "14.0     586\n",
       "16.0     508\n",
       "12.0     494\n",
       "13.0     399\n",
       "17.0     342\n",
       "19.0     304\n",
       "18.0     280\n",
       "20.0     148\n",
       "Name: experience, dtype: int64"
      ]
     },
     "execution_count": 14,
     "metadata": {},
     "output_type": "execute_result"
    }
   ],
   "source": [
    "df_numerical.experience.value_counts()"
   ]
  },
  {
   "cell_type": "code",
   "execution_count": 15,
   "id": "cc33064a",
   "metadata": {},
   "outputs": [],
   "source": [
    "df_numerical['last_new_job']=np.where(df_numerical['last_new_job']==\">4\",5,df_numerical['last_new_job'])\n",
    "df_numerical['last_new_job']=np.where(df_numerical['last_new_job']==\"never\",0,df_numerical['last_new_job'])\n",
    "df_numerical['last_new_job']=df_numerical['last_new_job'].astype(float)"
   ]
  },
  {
   "cell_type": "code",
   "execution_count": 16,
   "id": "7af0d409",
   "metadata": {},
   "outputs": [
    {
     "data": {
      "text/plain": [
       "1.0    8040\n",
       "5.0    3290\n",
       "2.0    2900\n",
       "0.0    2452\n",
       "4.0    1029\n",
       "3.0    1024\n",
       "Name: last_new_job, dtype: int64"
      ]
     },
     "execution_count": 16,
     "metadata": {},
     "output_type": "execute_result"
    }
   ],
   "source": [
    "df_numerical.last_new_job.value_counts()"
   ]
  },
  {
   "cell_type": "code",
   "execution_count": 20,
   "id": "41e19d84",
   "metadata": {},
   "outputs": [
    {
     "data": {
      "text/plain": [
       "Text(0.5, 1.0, 'Mapa de Correlação das Variáveis Numéricas\\n')"
      ]
     },
     "execution_count": 20,
     "metadata": {},
     "output_type": "execute_result"
    },
    {
     "data": {
      "image/png": "[encoded data removed]",
      "text/plain": [
       "<Figure size 576x576 with 2 Axes>"
      ]
     },
     "metadata": {
      "needs_background": "light"
     },
     "output_type": "display_data"
    }
   ],
   "source": [
    "#mapa de calor com a correlação das variáveis numéricas\n",
    "plt.figure(figsize=(8,8))\n",
    "sns.heatmap(df_numerical.drop(\"enrollee_id\",axis=1).corr(\"spearman\"),annot=True)\n",
    "plt.title(\"Mapa de Correlação das Variáveis Numéricas\\n\")"
   ]
  },
  {
   "cell_type": "markdown",
   "id": "7b9c51b9",
   "metadata": {},
   "source": [
    "Através do mapa de calor podemos perceber que a correlação mais forte é entre as variáveis experience e last_new_job. Também vemos que as variáveis last_new_job e training_hours tem uma correlação muito fraca com a variável alvo (target), podendo até serem descartadas da análise."
   ]
  },
  {
   "cell_type": "markdown",
   "id": "8f93a21d",
   "metadata": {},
   "source": [
    "# Weight of Evidence (WOE) e Information Value (IV)\n",
    "Este conjunto de dados contém mais dados com tipo categórico do que tipo numérico. Usaremos recursos categóricos nominais para WOE e IV.\n",
    "\n",
    "Weight of Evidence (WOE) e Information Value (IV) são duas medidas usadas para analisar a  força  de  uma  variável  em  relação à variável  alvo. Embora  possa  ser  usada  com  variáveis numéricas e categóricas normalmente usamos com variáveis categóricas.\n",
    "\n",
    "WOE = percentual de eventos / percentual de não eventos\n",
    "\n",
    "IV = sum(WOE * (percentual de eventos - percentual de não eventos)\n",
    "\n",
    "Interpretamos o resultado de IV assim:\n",
    "\n",
    "Information Value, Poder de Previsão\n",
    "\n",
    "< 0.02, não deve ser usado para previsão\n",
    "\n",
    "0.02 - 0.1, preditor fraco\n",
    "\n",
    "0.1 - 0.3, preditor médio\n",
    "\n",
    "0.3 - 0.5, preditor forte\n",
    "\n",
    "maior que 0.5, parece bom demais para ser verdade"
   ]
  },
  {
   "cell_type": "code",
   "execution_count": 21,
   "id": "983e2008",
   "metadata": {},
   "outputs": [
    {
     "data": {
      "text/plain": [
       "<Figure size 720x864 with 0 Axes>"
      ]
     },
     "metadata": {},
     "output_type": "display_data"
    },
    {
     "data": {
      "image/png": "[encoded data removed]",
      "text/plain": [
       "<Figure size 432x288 with 1 Axes>"
      ]
     },
     "metadata": {
      "needs_background": "light"
     },
     "output_type": "display_data"
    }
   ],
   "source": [
    "# Variáveis categóricas\n",
    "columns_cat = df.drop(columns = ['target',\n",
    "                                 'enrollee_id',\n",
    "                                 'city',\n",
    "                                 'city_development_index',\n",
    "                                 'training_hours',\n",
    "                                 'experience',\n",
    "                                 'last_new_job',\n",
    "                                 'company_size']).columns\n",
    "\n",
    "# Lista para o IV\n",
    "iv = []\n",
    "\n",
    "# Loop\n",
    "for i in columns_cat:\n",
    "    df_woe_iv = (pd.crosstab(df[i], df['target'], normalize = 'columns')\n",
    "                 .assign(woe = lambda dfx: np.log(dfx[1] / dfx[0]))\n",
    "                 .assign(iv = lambda dfx: np.sum(dfx['woe']*(dfx[1]-dfx[0]))))\n",
    "    iv.append(df_woe_iv['iv'][0])\n",
    "\n",
    "# Dataframe\n",
    "df_iv = pd.DataFrame({'Features':columns_cat,'iv':iv}).set_index('Features').sort_values(by = 'iv')\n",
    "\n",
    "# Plot\n",
    "# Figura\n",
    "plt.figure(figsize = (10,12))\n",
    "df_iv.plot(kind = 'barh', title = 'Information Value das Variáveis Categóricas', colormap = \"Accent\")\n",
    "for index, value in enumerate(list(round(df_iv[\"iv\"],3))):\n",
    "    plt.text((value), index, str(value))\n",
    "plt.legend(loc  = \"lower right\")\n",
    "plt.show()"
   ]
  },
  {
   "cell_type": "markdown",
   "id": "20494cad",
   "metadata": {},
   "source": [
    "Através do gráfico notamos que a variável enrolled_university é um preditor médio, relevant_experience e education_level são preditores fracos e as outras variáveis são inúteis para a previsão."
   ]
  },
  {
   "cell_type": "code",
   "execution_count": 23,
   "id": "02ae02e8",
   "metadata": {},
   "outputs": [
    {
     "data": {
      "text/plain": [
       "Text(0.5, 1.0, 'Gráfico de Desbalanceamento da Variável Target')"
      ]
     },
     "execution_count": 23,
     "metadata": {},
     "output_type": "execute_result"
    },
    {
     "data": {
      "image/png": "[encoded data removed]",
      "text/plain": [
       "<Figure size 576x576 with 1 Axes>"
      ]
     },
     "metadata": {},
     "output_type": "display_data"
    }
   ],
   "source": [
    "#verificando o desbalanceamento dos dados\n",
    "plt.figure(figsize=(8,8))\n",
    "plt.pie(df.target.value_counts(),labels = list(df['target'].value_counts().index),\n",
    "        autopct = \"%.2f%%\",\n",
    "        explode = (0,0.1))\n",
    "plt.title('Gráfico de Desbalanceamento da Variável Target')"
   ]
  },
  {
   "cell_type": "markdown",
   "id": "91296ddb",
   "metadata": {},
   "source": [
    "Nota-se que a grande maioria dos dados (75%) são de pessoas que naõ estão buscando um novo emprego. Para o trabalho apenas de análise naõ há problema, mas se fossemos fazer previsões com Machine Learning precisaríamos buscar uma forma de tornar os dados mais balanceados."
   ]
  },
  {
   "cell_type": "markdown",
   "id": "501db310",
   "metadata": {},
   "source": [
    "## Limpeza e Processamento dos Dados"
   ]
  },
  {
   "cell_type": "code",
   "execution_count": 25,
   "id": "e866fe49",
   "metadata": {},
   "outputs": [
    {
     "data": {
      "text/plain": [
       "0"
      ]
     },
     "execution_count": 25,
     "metadata": {},
     "output_type": "execute_result"
    }
   ],
   "source": [
    "#verificando valores duplicados\n",
    "df['enrollee_id'].duplicated().sum()"
   ]
  },
  {
   "cell_type": "code",
   "execution_count": 26,
   "id": "ed603954",
   "metadata": {},
   "outputs": [
    {
     "data": {
      "text/plain": [
       "enrollee_id                  0\n",
       "city                         0\n",
       "city_development_index       0\n",
       "gender                    4508\n",
       "relevent_experience          0\n",
       "enrolled_university        386\n",
       "education_level            460\n",
       "major_discipline          2813\n",
       "experience                  65\n",
       "company_size              5938\n",
       "company_type              6140\n",
       "last_new_job               423\n",
       "training_hours               0\n",
       "target                       0\n",
       "dtype: int64"
      ]
     },
     "execution_count": 26,
     "metadata": {},
     "output_type": "execute_result"
    }
   ],
   "source": [
    "#valores ausentes por coluna\n",
    "df.isna().sum()"
   ]
  },
  {
   "cell_type": "code",
   "execution_count": 27,
   "id": "2826626a",
   "metadata": {},
   "outputs": [
    {
     "data": {
      "text/html": [
       "<div>\n",
       "<style scoped>\n",
       "    .dataframe tbody tr th:only-of-type {\n",
       "        vertical-align: middle;\n",
       "    }\n",
       "\n",
       "    .dataframe tbody tr th {\n",
       "        vertical-align: top;\n",
       "    }\n",
       "\n",
       "    .dataframe thead th {\n",
       "        text-align: right;\n",
       "    }\n",
       "</style>\n",
       "<table border=\"1\" class=\"dataframe\">\n",
       "  <thead>\n",
       "    <tr style=\"text-align: right;\">\n",
       "      <th></th>\n",
       "      <th>enrollee_id</th>\n",
       "      <th>city</th>\n",
       "      <th>city_development_index</th>\n",
       "      <th>relevent_experience</th>\n",
       "      <th>enrolled_university</th>\n",
       "      <th>education_level</th>\n",
       "      <th>major_discipline</th>\n",
       "      <th>experience</th>\n",
       "      <th>company_size</th>\n",
       "      <th>company_type</th>\n",
       "      <th>last_new_job</th>\n",
       "      <th>training_hours</th>\n",
       "      <th>target</th>\n",
       "    </tr>\n",
       "  </thead>\n",
       "  <tbody>\n",
       "    <tr>\n",
       "      <th>0</th>\n",
       "      <td>8949</td>\n",
       "      <td>city_103</td>\n",
       "      <td>0.920</td>\n",
       "      <td>Has relevent experience</td>\n",
       "      <td>no_enrollment</td>\n",
       "      <td>Graduate</td>\n",
       "      <td>STEM</td>\n",
       "      <td>&gt;20</td>\n",
       "      <td>NaN</td>\n",
       "      <td>NaN</td>\n",
       "      <td>1</td>\n",
       "      <td>36</td>\n",
       "      <td>1.0</td>\n",
       "    </tr>\n",
       "    <tr>\n",
       "      <th>1</th>\n",
       "      <td>29725</td>\n",
       "      <td>city_40</td>\n",
       "      <td>0.776</td>\n",
       "      <td>No relevent experience</td>\n",
       "      <td>no_enrollment</td>\n",
       "      <td>Graduate</td>\n",
       "      <td>STEM</td>\n",
       "      <td>15</td>\n",
       "      <td>50-99</td>\n",
       "      <td>Pvt Ltd</td>\n",
       "      <td>&gt;4</td>\n",
       "      <td>47</td>\n",
       "      <td>0.0</td>\n",
       "    </tr>\n",
       "    <tr>\n",
       "      <th>2</th>\n",
       "      <td>11561</td>\n",
       "      <td>city_21</td>\n",
       "      <td>0.624</td>\n",
       "      <td>No relevent experience</td>\n",
       "      <td>Full time course</td>\n",
       "      <td>Graduate</td>\n",
       "      <td>STEM</td>\n",
       "      <td>5</td>\n",
       "      <td>NaN</td>\n",
       "      <td>NaN</td>\n",
       "      <td>never</td>\n",
       "      <td>83</td>\n",
       "      <td>0.0</td>\n",
       "    </tr>\n",
       "    <tr>\n",
       "      <th>3</th>\n",
       "      <td>33241</td>\n",
       "      <td>city_115</td>\n",
       "      <td>0.789</td>\n",
       "      <td>No relevent experience</td>\n",
       "      <td>NaN</td>\n",
       "      <td>Graduate</td>\n",
       "      <td>Business Degree</td>\n",
       "      <td>&lt;1</td>\n",
       "      <td>NaN</td>\n",
       "      <td>Pvt Ltd</td>\n",
       "      <td>never</td>\n",
       "      <td>52</td>\n",
       "      <td>1.0</td>\n",
       "    </tr>\n",
       "    <tr>\n",
       "      <th>4</th>\n",
       "      <td>666</td>\n",
       "      <td>city_162</td>\n",
       "      <td>0.767</td>\n",
       "      <td>Has relevent experience</td>\n",
       "      <td>no_enrollment</td>\n",
       "      <td>Masters</td>\n",
       "      <td>STEM</td>\n",
       "      <td>&gt;20</td>\n",
       "      <td>50-99</td>\n",
       "      <td>Funded Startup</td>\n",
       "      <td>4</td>\n",
       "      <td>8</td>\n",
       "      <td>0.0</td>\n",
       "    </tr>\n",
       "    <tr>\n",
       "      <th>...</th>\n",
       "      <td>...</td>\n",
       "      <td>...</td>\n",
       "      <td>...</td>\n",
       "      <td>...</td>\n",
       "      <td>...</td>\n",
       "      <td>...</td>\n",
       "      <td>...</td>\n",
       "      <td>...</td>\n",
       "      <td>...</td>\n",
       "      <td>...</td>\n",
       "      <td>...</td>\n",
       "      <td>...</td>\n",
       "      <td>...</td>\n",
       "    </tr>\n",
       "    <tr>\n",
       "      <th>19153</th>\n",
       "      <td>7386</td>\n",
       "      <td>city_173</td>\n",
       "      <td>0.878</td>\n",
       "      <td>No relevent experience</td>\n",
       "      <td>no_enrollment</td>\n",
       "      <td>Graduate</td>\n",
       "      <td>Humanities</td>\n",
       "      <td>14</td>\n",
       "      <td>NaN</td>\n",
       "      <td>NaN</td>\n",
       "      <td>1</td>\n",
       "      <td>42</td>\n",
       "      <td>1.0</td>\n",
       "    </tr>\n",
       "    <tr>\n",
       "      <th>19154</th>\n",
       "      <td>31398</td>\n",
       "      <td>city_103</td>\n",
       "      <td>0.920</td>\n",
       "      <td>Has relevent experience</td>\n",
       "      <td>no_enrollment</td>\n",
       "      <td>Graduate</td>\n",
       "      <td>STEM</td>\n",
       "      <td>14</td>\n",
       "      <td>NaN</td>\n",
       "      <td>NaN</td>\n",
       "      <td>4</td>\n",
       "      <td>52</td>\n",
       "      <td>1.0</td>\n",
       "    </tr>\n",
       "    <tr>\n",
       "      <th>19155</th>\n",
       "      <td>24576</td>\n",
       "      <td>city_103</td>\n",
       "      <td>0.920</td>\n",
       "      <td>Has relevent experience</td>\n",
       "      <td>no_enrollment</td>\n",
       "      <td>Graduate</td>\n",
       "      <td>STEM</td>\n",
       "      <td>&gt;20</td>\n",
       "      <td>50-99</td>\n",
       "      <td>Pvt Ltd</td>\n",
       "      <td>4</td>\n",
       "      <td>44</td>\n",
       "      <td>0.0</td>\n",
       "    </tr>\n",
       "    <tr>\n",
       "      <th>19156</th>\n",
       "      <td>5756</td>\n",
       "      <td>city_65</td>\n",
       "      <td>0.802</td>\n",
       "      <td>Has relevent experience</td>\n",
       "      <td>no_enrollment</td>\n",
       "      <td>High School</td>\n",
       "      <td>NaN</td>\n",
       "      <td>&lt;1</td>\n",
       "      <td>500-999</td>\n",
       "      <td>Pvt Ltd</td>\n",
       "      <td>2</td>\n",
       "      <td>97</td>\n",
       "      <td>0.0</td>\n",
       "    </tr>\n",
       "    <tr>\n",
       "      <th>19157</th>\n",
       "      <td>23834</td>\n",
       "      <td>city_67</td>\n",
       "      <td>0.855</td>\n",
       "      <td>No relevent experience</td>\n",
       "      <td>no_enrollment</td>\n",
       "      <td>Primary School</td>\n",
       "      <td>NaN</td>\n",
       "      <td>2</td>\n",
       "      <td>NaN</td>\n",
       "      <td>NaN</td>\n",
       "      <td>1</td>\n",
       "      <td>127</td>\n",
       "      <td>0.0</td>\n",
       "    </tr>\n",
       "  </tbody>\n",
       "</table>\n",
       "<p>19158 rows × 13 columns</p>\n",
       "</div>"
      ],
      "text/plain": [
       "       enrollee_id      city  city_development_index      relevent_experience  \\\n",
       "0             8949  city_103                   0.920  Has relevent experience   \n",
       "1            29725   city_40                   0.776   No relevent experience   \n",
       "2            11561   city_21                   0.624   No relevent experience   \n",
       "3            33241  city_115                   0.789   No relevent experience   \n",
       "4              666  city_162                   0.767  Has relevent experience   \n",
       "...            ...       ...                     ...                      ...   \n",
       "19153         7386  city_173                   0.878   No relevent experience   \n",
       "19154        31398  city_103                   0.920  Has relevent experience   \n",
       "19155        24576  city_103                   0.920  Has relevent experience   \n",
       "19156         5756   city_65                   0.802  Has relevent experience   \n",
       "19157        23834   city_67                   0.855   No relevent experience   \n",
       "\n",
       "      enrolled_university education_level major_discipline experience  \\\n",
       "0           no_enrollment        Graduate             STEM        >20   \n",
       "1           no_enrollment        Graduate             STEM         15   \n",
       "2        Full time course        Graduate             STEM          5   \n",
       "3                     NaN        Graduate  Business Degree         <1   \n",
       "4           no_enrollment         Masters             STEM        >20   \n",
       "...                   ...             ...              ...        ...   \n",
       "19153       no_enrollment        Graduate       Humanities         14   \n",
       "19154       no_enrollment        Graduate             STEM         14   \n",
       "19155       no_enrollment        Graduate             STEM        >20   \n",
       "19156       no_enrollment     High School              NaN         <1   \n",
       "19157       no_enrollment  Primary School              NaN          2   \n",
       "\n",
       "      company_size    company_type last_new_job  training_hours  target  \n",
       "0              NaN             NaN            1              36     1.0  \n",
       "1            50-99         Pvt Ltd           >4              47     0.0  \n",
       "2              NaN             NaN        never              83     0.0  \n",
       "3              NaN         Pvt Ltd        never              52     1.0  \n",
       "4            50-99  Funded Startup            4               8     0.0  \n",
       "...            ...             ...          ...             ...     ...  \n",
       "19153          NaN             NaN            1              42     1.0  \n",
       "19154          NaN             NaN            4              52     1.0  \n",
       "19155        50-99         Pvt Ltd            4              44     0.0  \n",
       "19156      500-999         Pvt Ltd            2              97     0.0  \n",
       "19157          NaN             NaN            1             127     0.0  \n",
       "\n",
       "[19158 rows x 13 columns]"
      ]
     },
     "execution_count": 27,
     "metadata": {},
     "output_type": "execute_result"
    }
   ],
   "source": [
    "#como a variável gênero é inútil na previsão, vamos fazer o drop dela\n",
    "df=df.drop(columns=['gender'])\n",
    "df"
   ]
  },
  {
   "cell_type": "markdown",
   "id": "e9965d8a",
   "metadata": {},
   "source": [
    "### Variável enrolled_university "
   ]
  },
  {
   "cell_type": "code",
   "execution_count": 32,
   "id": "974be67d",
   "metadata": {},
   "outputs": [
    {
     "data": {
      "text/plain": [
       "no_enrollment       13817\n",
       "Full time course     3757\n",
       "Part time course     1198\n",
       "NaN                   386\n",
       "Name: enrolled_university, dtype: int64"
      ]
     },
     "execution_count": 32,
     "metadata": {},
     "output_type": "execute_result"
    }
   ],
   "source": [
    "df['enrolled_university'].fillna('NaN').value_counts()"
   ]
  },
  {
   "cell_type": "code",
   "execution_count": 33,
   "id": "9dbb9443",
   "metadata": {},
   "outputs": [
    {
     "data": {
      "text/plain": [
       "Graduate          171\n",
       "NaN               100\n",
       "Masters            53\n",
       "High School        47\n",
       "Primary School      9\n",
       "Phd                 6\n",
       "Name: education_level, dtype: int64"
      ]
     },
     "execution_count": 33,
     "metadata": {},
     "output_type": "execute_result"
    }
   ],
   "source": [
    "#relação entre enrolled_university e education_level\n",
    "df[df['enrolled_university'].isna()]['education_level'].value_counts(dropna=False)"
   ]
  },
  {
   "cell_type": "code",
   "execution_count": 34,
   "id": "ed5a131e",
   "metadata": {},
   "outputs": [],
   "source": [
    "#colocamos os valores ausentes como 'Other'\n",
    "nan_index=df[(df['enrolled_university'].isna())].index\n",
    "df['enrolled_university'][nan_index]='Other'"
   ]
  },
  {
   "cell_type": "code",
   "execution_count": 35,
   "id": "93d48052",
   "metadata": {},
   "outputs": [
    {
     "data": {
      "text/plain": [
       "no_enrollment       13817\n",
       "Full time course     3757\n",
       "Part time course     1198\n",
       "Other                 386\n",
       "Name: enrolled_university, dtype: int64"
      ]
     },
     "execution_count": 35,
     "metadata": {},
     "output_type": "execute_result"
    }
   ],
   "source": [
    "df['enrolled_university'].value_counts()"
   ]
  },
  {
   "cell_type": "markdown",
   "id": "a1d59f7e",
   "metadata": {},
   "source": [
    "### Variável education_level "
   ]
  },
  {
   "cell_type": "code",
   "execution_count": 36,
   "id": "30fe0a59",
   "metadata": {},
   "outputs": [
    {
     "data": {
      "text/plain": [
       "Graduate          11598\n",
       "Masters            4361\n",
       "High School        2017\n",
       "NaN                 460\n",
       "Phd                 414\n",
       "Primary School      308\n",
       "Name: education_level, dtype: int64"
      ]
     },
     "execution_count": 36,
     "metadata": {},
     "output_type": "execute_result"
    }
   ],
   "source": [
    "df['education_level'].fillna('NaN').value_counts()"
   ]
  },
  {
   "cell_type": "code",
   "execution_count": 37,
   "id": "71940327",
   "metadata": {},
   "outputs": [],
   "source": [
    "nan_index=df[(df['education_level'].isna())].index\n",
    "df['education_level'][nan_index]='Other'"
   ]
  },
  {
   "cell_type": "code",
   "execution_count": 38,
   "id": "34103ae9",
   "metadata": {},
   "outputs": [
    {
     "data": {
      "text/plain": [
       "Graduate          11598\n",
       "Masters            4361\n",
       "High School        2017\n",
       "Other               460\n",
       "Phd                 414\n",
       "Primary School      308\n",
       "Name: education_level, dtype: int64"
      ]
     },
     "execution_count": 38,
     "metadata": {},
     "output_type": "execute_result"
    }
   ],
   "source": [
    "df['education_level'].value_counts()"
   ]
  },
  {
   "cell_type": "markdown",
   "id": "bed1ad7c",
   "metadata": {},
   "source": [
    "### Variável major_discipline "
   ]
  },
  {
   "cell_type": "code",
   "execution_count": 39,
   "id": "b1b9c745",
   "metadata": {},
   "outputs": [
    {
     "data": {
      "text/plain": [
       "STEM               14492\n",
       "NaN                 2813\n",
       "Humanities           669\n",
       "Other                381\n",
       "Business Degree      327\n",
       "Arts                 253\n",
       "No Major             223\n",
       "Name: major_discipline, dtype: int64"
      ]
     },
     "execution_count": 39,
     "metadata": {},
     "output_type": "execute_result"
    }
   ],
   "source": [
    "df['major_discipline'].fillna('NaN').value_counts()"
   ]
  },
  {
   "cell_type": "code",
   "execution_count": 40,
   "id": "e996a4b2",
   "metadata": {},
   "outputs": [
    {
     "data": {
      "text/plain": [
       "High School       2017\n",
       "Other              460\n",
       "Primary School     308\n",
       "Graduate            22\n",
       "Masters              6\n",
       "Name: education_level, dtype: int64"
      ]
     },
     "execution_count": 40,
     "metadata": {},
     "output_type": "execute_result"
    }
   ],
   "source": [
    "#relação entre major_discipline e education_level\n",
    "df[df['major_discipline'].isna()]['education_level'].value_counts(dropna=False)"
   ]
  },
  {
   "cell_type": "code",
   "execution_count": 43,
   "id": "3a2aeae3",
   "metadata": {},
   "outputs": [],
   "source": [
    "nan_index=df[(df['major_discipline'].isna()) & ((df['education_level']=='High School') | (df['education_level']=='Other') | (df['education_level']=='Primary School'))].index"
   ]
  },
  {
   "cell_type": "code",
   "execution_count": 44,
   "id": "34d6edbe",
   "metadata": {},
   "outputs": [],
   "source": [
    "df['major_discipline'][nan_index]='Non Degree'"
   ]
  },
  {
   "cell_type": "code",
   "execution_count": 45,
   "id": "d542a21c",
   "metadata": {},
   "outputs": [
    {
     "data": {
      "text/plain": [
       "STEM               14492\n",
       "Non Degree          2785\n",
       "Humanities           669\n",
       "Other                381\n",
       "Business Degree      327\n",
       "Arts                 253\n",
       "No Major             223\n",
       "NaN                   28\n",
       "Name: major_discipline, dtype: int64"
      ]
     },
     "execution_count": 45,
     "metadata": {},
     "output_type": "execute_result"
    }
   ],
   "source": [
    "df['major_discipline'].fillna('NaN').value_counts()"
   ]
  },
  {
   "cell_type": "code",
   "execution_count": 46,
   "id": "0f7b7b9a",
   "metadata": {},
   "outputs": [],
   "source": [
    "df['major_discipline'][df[(df['major_discipline'].isna())].index]='Other'"
   ]
  },
  {
   "cell_type": "code",
   "execution_count": 47,
   "id": "2383f0c4",
   "metadata": {},
   "outputs": [
    {
     "data": {
      "text/plain": [
       "STEM               14492\n",
       "Non Degree          2785\n",
       "Humanities           669\n",
       "Other                409\n",
       "Business Degree      327\n",
       "Arts                 253\n",
       "No Major             223\n",
       "Name: major_discipline, dtype: int64"
      ]
     },
     "execution_count": 47,
     "metadata": {},
     "output_type": "execute_result"
    }
   ],
   "source": [
    "df['major_discipline'].fillna('NaN').value_counts()"
   ]
  },
  {
   "cell_type": "markdown",
   "id": "930ae91c",
   "metadata": {},
   "source": [
    "# Variável company_size"
   ]
  },
  {
   "cell_type": "code",
   "execution_count": 49,
   "id": "6b3d0847",
   "metadata": {},
   "outputs": [
    {
     "data": {
      "text/plain": [
       "NaN          5938\n",
       "50-99        3083\n",
       "100-500      2571\n",
       "10000+       2019\n",
       "10/49        1471\n",
       "1000-4999    1328\n",
       "<10          1308\n",
       "500-999       877\n",
       "5000-9999     563\n",
       "Name: company_size, dtype: int64"
      ]
     },
     "execution_count": 49,
     "metadata": {},
     "output_type": "execute_result"
    }
   ],
   "source": [
    "df['company_size'].fillna('NaN').value_counts()"
   ]
  },
  {
   "cell_type": "code",
   "execution_count": 50,
   "id": "16878e7a",
   "metadata": {},
   "outputs": [],
   "source": [
    "df['company_size'][df[(df['company_size'].isna())].index]='Other'"
   ]
  },
  {
   "cell_type": "markdown",
   "id": "13e82b50",
   "metadata": {},
   "source": [
    "### Variável company_type "
   ]
  },
  {
   "cell_type": "code",
   "execution_count": 51,
   "id": "f89c7dea",
   "metadata": {},
   "outputs": [
    {
     "data": {
      "text/plain": [
       "Pvt Ltd                9817\n",
       "NaN                    6140\n",
       "Funded Startup         1001\n",
       "Public Sector           955\n",
       "Early Stage Startup     603\n",
       "NGO                     521\n",
       "Other                   121\n",
       "Name: company_type, dtype: int64"
      ]
     },
     "execution_count": 51,
     "metadata": {},
     "output_type": "execute_result"
    }
   ],
   "source": [
    "df['company_type'].fillna('NaN').value_counts()"
   ]
  },
  {
   "cell_type": "code",
   "execution_count": 52,
   "id": "c36bdbfb",
   "metadata": {},
   "outputs": [],
   "source": [
    "df['company_type'][df[(df['company_type'].isna())].index]='Other'"
   ]
  },
  {
   "cell_type": "markdown",
   "id": "3d5b51d1",
   "metadata": {},
   "source": [
    "# Drop das variáveis last_new_job e training_hours"
   ]
  },
  {
   "cell_type": "markdown",
   "id": "f9a6f781",
   "metadata": {},
   "source": [
    "Vimos no mapa de correlação que as variáveis last_new_job e training_hours tem uma correlação muito baixa com a variável target, logo vamos fazer o drop dessas variáveis."
   ]
  },
  {
   "cell_type": "code",
   "execution_count": 54,
   "id": "687fa57a",
   "metadata": {},
   "outputs": [],
   "source": [
    "df=df.drop(columns=['last_new_job','training_hours'])"
   ]
  },
  {
   "cell_type": "code",
   "execution_count": 56,
   "id": "8fd0bb2b",
   "metadata": {},
   "outputs": [
    {
     "data": {
      "text/plain": [
       "enrollee_id                0\n",
       "city                       0\n",
       "city_development_index     0\n",
       "relevent_experience        0\n",
       "enrolled_university        0\n",
       "education_level            0\n",
       "major_discipline           0\n",
       "experience                65\n",
       "company_size               0\n",
       "company_type               0\n",
       "target                     0\n",
       "dtype: int64"
      ]
     },
     "execution_count": 56,
     "metadata": {},
     "output_type": "execute_result"
    }
   ],
   "source": [
    "df.isna().sum()"
   ]
  },
  {
   "cell_type": "markdown",
   "id": "8d72b02b",
   "metadata": {},
   "source": [
    "Restaram apenas os valores ausentes da variável experience, que presentam 0,33% da massa de dados. Segundo a literatura, se tivermos menos de 2% de valores ausentes, podemos apagar esses dados. Então faremos o drop desses dados."
   ]
  },
  {
   "cell_type": "code",
   "execution_count": 57,
   "id": "4eb81801",
   "metadata": {},
   "outputs": [],
   "source": [
    "df=df.dropna()"
   ]
  },
  {
   "cell_type": "code",
   "execution_count": 58,
   "id": "8b37a5b9",
   "metadata": {},
   "outputs": [
    {
     "data": {
      "text/plain": [
       "enrollee_id               0\n",
       "city                      0\n",
       "city_development_index    0\n",
       "relevent_experience       0\n",
       "enrolled_university       0\n",
       "education_level           0\n",
       "major_discipline          0\n",
       "experience                0\n",
       "company_size              0\n",
       "company_type              0\n",
       "target                    0\n",
       "dtype: int64"
      ]
     },
     "execution_count": 58,
     "metadata": {},
     "output_type": "execute_result"
    }
   ],
   "source": [
    "df.isna().sum()"
   ]
  },
  {
   "cell_type": "code",
   "execution_count": 59,
   "id": "5a932783",
   "metadata": {},
   "outputs": [
    {
     "data": {
      "text/html": [
       "<div>\n",
       "<style scoped>\n",
       "    .dataframe tbody tr th:only-of-type {\n",
       "        vertical-align: middle;\n",
       "    }\n",
       "\n",
       "    .dataframe tbody tr th {\n",
       "        vertical-align: top;\n",
       "    }\n",
       "\n",
       "    .dataframe thead th {\n",
       "        text-align: right;\n",
       "    }\n",
       "</style>\n",
       "<table border=\"1\" class=\"dataframe\">\n",
       "  <thead>\n",
       "    <tr style=\"text-align: right;\">\n",
       "      <th></th>\n",
       "      <th>enrollee_id</th>\n",
       "      <th>city</th>\n",
       "      <th>city_development_index</th>\n",
       "      <th>relevent_experience</th>\n",
       "      <th>enrolled_university</th>\n",
       "      <th>education_level</th>\n",
       "      <th>major_discipline</th>\n",
       "      <th>experience</th>\n",
       "      <th>company_size</th>\n",
       "      <th>company_type</th>\n",
       "      <th>target</th>\n",
       "    </tr>\n",
       "  </thead>\n",
       "  <tbody>\n",
       "    <tr>\n",
       "      <th>0</th>\n",
       "      <td>8949</td>\n",
       "      <td>city_103</td>\n",
       "      <td>0.920</td>\n",
       "      <td>Has relevent experience</td>\n",
       "      <td>no_enrollment</td>\n",
       "      <td>Graduate</td>\n",
       "      <td>STEM</td>\n",
       "      <td>&gt;20</td>\n",
       "      <td>Other</td>\n",
       "      <td>Other</td>\n",
       "      <td>1.0</td>\n",
       "    </tr>\n",
       "    <tr>\n",
       "      <th>1</th>\n",
       "      <td>29725</td>\n",
       "      <td>city_40</td>\n",
       "      <td>0.776</td>\n",
       "      <td>No relevent experience</td>\n",
       "      <td>no_enrollment</td>\n",
       "      <td>Graduate</td>\n",
       "      <td>STEM</td>\n",
       "      <td>15</td>\n",
       "      <td>50-99</td>\n",
       "      <td>Pvt Ltd</td>\n",
       "      <td>0.0</td>\n",
       "    </tr>\n",
       "    <tr>\n",
       "      <th>2</th>\n",
       "      <td>11561</td>\n",
       "      <td>city_21</td>\n",
       "      <td>0.624</td>\n",
       "      <td>No relevent experience</td>\n",
       "      <td>Full time course</td>\n",
       "      <td>Graduate</td>\n",
       "      <td>STEM</td>\n",
       "      <td>5</td>\n",
       "      <td>Other</td>\n",
       "      <td>Other</td>\n",
       "      <td>0.0</td>\n",
       "    </tr>\n",
       "    <tr>\n",
       "      <th>3</th>\n",
       "      <td>33241</td>\n",
       "      <td>city_115</td>\n",
       "      <td>0.789</td>\n",
       "      <td>No relevent experience</td>\n",
       "      <td>Other</td>\n",
       "      <td>Graduate</td>\n",
       "      <td>Business Degree</td>\n",
       "      <td>&lt;1</td>\n",
       "      <td>Other</td>\n",
       "      <td>Pvt Ltd</td>\n",
       "      <td>1.0</td>\n",
       "    </tr>\n",
       "    <tr>\n",
       "      <th>4</th>\n",
       "      <td>666</td>\n",
       "      <td>city_162</td>\n",
       "      <td>0.767</td>\n",
       "      <td>Has relevent experience</td>\n",
       "      <td>no_enrollment</td>\n",
       "      <td>Masters</td>\n",
       "      <td>STEM</td>\n",
       "      <td>&gt;20</td>\n",
       "      <td>50-99</td>\n",
       "      <td>Funded Startup</td>\n",
       "      <td>0.0</td>\n",
       "    </tr>\n",
       "  </tbody>\n",
       "</table>\n",
       "</div>"
      ],
      "text/plain": [
       "   enrollee_id      city  city_development_index      relevent_experience  \\\n",
       "0         8949  city_103                   0.920  Has relevent experience   \n",
       "1        29725   city_40                   0.776   No relevent experience   \n",
       "2        11561   city_21                   0.624   No relevent experience   \n",
       "3        33241  city_115                   0.789   No relevent experience   \n",
       "4          666  city_162                   0.767  Has relevent experience   \n",
       "\n",
       "  enrolled_university education_level major_discipline experience  \\\n",
       "0       no_enrollment        Graduate             STEM        >20   \n",
       "1       no_enrollment        Graduate             STEM         15   \n",
       "2    Full time course        Graduate             STEM          5   \n",
       "3               Other        Graduate  Business Degree         <1   \n",
       "4       no_enrollment         Masters             STEM        >20   \n",
       "\n",
       "  company_size    company_type  target  \n",
       "0        Other           Other     1.0  \n",
       "1        50-99         Pvt Ltd     0.0  \n",
       "2        Other           Other     0.0  \n",
       "3        Other         Pvt Ltd     1.0  \n",
       "4        50-99  Funded Startup     0.0  "
      ]
     },
     "execution_count": 59,
     "metadata": {},
     "output_type": "execute_result"
    }
   ],
   "source": [
    "df.head()"
   ]
  },
  {
   "cell_type": "markdown",
   "id": "4ab86a19",
   "metadata": {},
   "source": [
    "# Relatório Final\n",
    "\n",
    "Com base na análise podemos observar que as variáveis que podem ser utilizadas para encontrar um bom candidato são:\n",
    "\n",
    "-Índice de desenvolvimento da cidade;\n",
    "\n",
    "-Experiência do candidato;\n",
    "\n",
    "-Se tem ou não experiência relevante;\n",
    "\n",
    "-Se está matriculado ou não num curso universitário;\n",
    "\n",
    "-Nível educacional;\n",
    "\n",
    "-Área de graduação (quando for o caso);\n",
    "\n",
    "-Tipo da empresa.\n",
    "\n",
    "\n",
    "Não são relevante para a análise:\n",
    "\n",
    "-Gênero;\n",
    "\n",
    "-Horas de treinamento;\n",
    "\n",
    "-Última vez que o candidato esteve desempregado;\n",
    "\n",
    "-Tamanho da empresa;\n",
    "\n",
    "-ID do candidato;\n",
    "\n",
    "-Código da cidade."
   ]
  },
  {
   "cell_type": "code",
   "execution_count": null,
   "id": "c26cfc59",
   "metadata": {},
   "outputs": [],
   "source": []
  }
 ],
 "metadata": {
  "kernelspec": {
   "display_name": "Python 3 (ipykernel)",
   "language": "python",
   "name": "python3"
  },
  "language_info": {
   "codemirror_mode": {
    "name": "ipython",
    "version": 3
   },
   "file_extension": ".py",
   "mimetype": "text/x-python",
   "name": "python",
   "nbconvert_exporter": "python",
   "pygments_lexer": "ipython3",
   "version": "3.9.7"
  }
 },
 "nbformat": 4,
 "nbformat_minor": 5
}
